{
 "cells": [
  {
   "cell_type": "code",
   "execution_count": 1,
   "metadata": {
    "collapsed": false
   },
   "outputs": [],
   "source": [
    "%matplotlib inline\n",
    "import math\n",
    "import matplotlib.pyplot as plt\n",
    "import requests\n",
    "import datetime\n",
    "import urllib\n",
    "from  pandas import DataFrame,Series\n",
    "# Define function to fetch remote data # demonstartion only #\n",
    "def TQDB(symbol='DEMO1',startDate='2015-6-18',endDate='2025-6-18',type='DataFrame',server='127.0.0.1'):\n",
    "    querystr={'symbol':symbol, 'BEG':startDate, 'END': endDate}\n",
    "    url = \"http://\"+server+\"/cgi-bin/q1min.py?\"+urllib.urlencode(querystr)\n",
    "    r = requests.get(url)\n",
    "    lines = r.content.split('\\n')\n",
    "    x = []\n",
    "    H=[]\n",
    "    L=[]\n",
    "    C=[]\n",
    "    O=[]\n",
    "    i=0\n",
    "    for line in lines:\n",
    "        i=i+1\n",
    "        items=line.split(',')\n",
    "        if len(items) < 5:\n",
    "            continue\n",
    "        dt=datetime.datetime.strptime(items[0]+items[1], '%Y%m%d%H%M%S')\n",
    "        x.append(dt)\n",
    "\n",
    "        C.append(float(items[5]))\n",
    "        L.append(float(items[4]))\n",
    "        H.append(float(items[3]))\n",
    "        O.append(float(items[2]))\n",
    "    d = {'O' :O,'H':H,'L':L,'C':C}\n",
    "    if type==\"DataFrame\":\n",
    "        return DataFrame(d,index=x, columns=['O','H','L','C'])\n",
    "    elif type==\"Series\":\n",
    "        return Series(C,index=x)\n",
    "    else:\n",
    "        print 'type is not defined'\n"
   ]
  },
  {
   "cell_type": "code",
   "execution_count": 2,
   "metadata": {
    "collapsed": false,
    "scrolled": true
   },
   "outputs": [
    {
     "data": {
      "text/plain": [
       "0.03591379198404554"
      ]
     },
     "execution_count": 2,
     "metadata": {},
     "output_type": "execute_result"
    }
   ],
   "source": [
    "import mibian\n",
    "c = mibian.GK([1.4565, 1.45, 1, 2, 30], volatility=20)\n",
    "c.callPrice"
   ]
  },
  {
   "cell_type": "code",
   "execution_count": null,
   "metadata": {
    "collapsed": true
   },
   "outputs": [],
   "source": []
  },
  {
   "cell_type": "code",
   "execution_count": null,
   "metadata": {
    "collapsed": true
   },
   "outputs": [],
   "source": []
  }
 ],
 "metadata": {
  "kernelspec": {
   "display_name": "Python 2",
   "language": "python",
   "name": "python2"
  },
  "language_info": {
   "codemirror_mode": {
    "name": "ipython",
    "version": 2
   },
   "file_extension": ".py",
   "mimetype": "text/x-python",
   "name": "python",
   "nbconvert_exporter": "python",
   "pygments_lexer": "ipython2",
   "version": "2.7.11"
  }
 },
 "nbformat": 4,
 "nbformat_minor": 0
}
